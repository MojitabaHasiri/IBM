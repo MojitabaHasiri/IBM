{
 "cells": [
  {
   "cell_type": "markdown",
   "id": "bd26ee01",
   "metadata": {},
   "source": [
    "# Data Science Tools and Ecosystem"
   ]
  },
  {
   "cell_type": "markdown",
   "id": "75945e76",
   "metadata": {},
   "source": [
    "In this notebook, Data Science Tools and Ecosystem are summarized."
   ]
  },
  {
   "cell_type": "markdown",
   "id": "bc98499d",
   "metadata": {},
   "source": [
    "## Arthor\n",
    "Moji"
   ]
  },
  {
   "cell_type": "markdown",
   "id": "f47f6b05",
   "metadata": {},
   "source": [
    "\n",
    "**Objectives:**\n",
    "    \n",
    "    -Python\n",
    "    -R\n",
    "    -Java\n",
    "    -C++"
   ]
  },
  {
   "cell_type": "markdown",
   "id": "46461c24",
   "metadata": {},
   "source": [
    "\n",
    "\n",
    "Some of the popular languages that Data Scienctist use are:\n",
    "\n",
    "    1. Python\n",
    "    2. R\n",
    "    3. C++\n",
    "    4. Java\n",
    "    5. Scala"
   ]
  },
  {
   "cell_type": "markdown",
   "id": "41e0b41a",
   "metadata": {},
   "source": [
    "Some of the commonly used libraries used by Data Scientists include:\n",
    "    \n",
    "    1. NumPy\n",
    "    2. Pandas\n",
    "    3. Matplotlib\n",
    "    4. Seaborn\n",
    "    5. TensorFlow"
   ]
  },
  {
   "cell_type": "markdown",
   "id": "ba1e0f1a",
   "metadata": {},
   "source": [
    "\n",
    "\n",
    "|Data Science Tools|\n",
    "|------------------|\n",
    "|Jupyter Notebooks|\n",
    "|Rstudio|\n",
    "|Spyder|\n",
    "|VC Code|"
   ]
  },
  {
   "cell_type": "markdown",
   "id": "c9fb9080",
   "metadata": {},
   "source": [
    "### Below are a few examples of evaluating arithmetic expressions in Python\n",
    "\n",
    "Addition:\n",
    "\n",
    "a = 5\n",
    "\n",
    "b = 3\n",
    "\n",
    "z = a + b\n",
    "\n",
    "Print(z)\n",
    "\n",
    "Subtraction: \n",
    "\n",
    "a = 5\n",
    "\n",
    "b = 3\n",
    "\n",
    "z = a - b\n",
    "\n",
    "Print(z)\n",
    "        \n",
    "Multiplication:\n",
    "\n",
    "a = 5\n",
    "\n",
    "b = 3\n",
    "\n",
    "z = a * b\n",
    "\n",
    "Print(z)"
   ]
  },
  {
   "cell_type": "code",
   "execution_count": 2,
   "id": "f81bbf65",
   "metadata": {},
   "outputs": [
    {
     "name": "stdout",
     "output_type": "stream",
     "text": [
      "17\n"
     ]
    }
   ],
   "source": [
    "# This a simple arithmetic expression to mutiply then add integers\n",
    "a=(3*4)+5\n",
    "print(a)"
   ]
  },
  {
   "cell_type": "code",
   "execution_count": 3,
   "id": "b2da59e8",
   "metadata": {},
   "outputs": [
    {
     "name": "stdout",
     "output_type": "stream",
     "text": [
      "3.3333333333333335\n"
     ]
    }
   ],
   "source": [
    "# This will convert 200 minutes to hours by diving by 60\n",
    "a=200/60\n",
    "print(a)"
   ]
  },
  {
   "cell_type": "code",
   "execution_count": null,
   "id": "2fd17d25",
   "metadata": {},
   "outputs": [],
   "source": []
  }
 ],
 "metadata": {
  "kernelspec": {
   "display_name": "Python 3 (ipykernel)",
   "language": "python",
   "name": "python3"
  },
  "language_info": {
   "codemirror_mode": {
    "name": "ipython",
    "version": 3
   },
   "file_extension": ".py",
   "mimetype": "text/x-python",
   "name": "python",
   "nbconvert_exporter": "python",
   "pygments_lexer": "ipython3",
   "version": "3.11.3"
  }
 },
 "nbformat": 4,
 "nbformat_minor": 5
}
